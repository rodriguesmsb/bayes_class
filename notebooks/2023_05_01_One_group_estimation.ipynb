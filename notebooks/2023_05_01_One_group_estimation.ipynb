{
 "cells": [
  {
   "cell_type": "markdown",
   "id": "3727d6c2-4c2c-4a1d-ac03-9612c3f0073d",
   "metadata": {
    "tags": []
   },
   "source": [
    "<h1 style=\"color:orange\">One group estimation</h1>"
   ]
  },
  {
   "cell_type": "markdown",
   "id": "e87fa662-c0e2-414d-abac-acdfc4e351ef",
   "metadata": {},
   "source": [
    "<p>The example used in this section could be found at <a href=\"https://github.com/fonnesbeck/bayes_course_2022/blob/main/notebooks/Section1_1-Basic_Bayes.ipynb\">Fonnesbeck C,</a>. The dasaset used in this example as well the model conception was described by Gelman et al (2007). The ideia was to measure the level of the radioactive gas radon among different househoulds at counties level off different states from USA. Radon gas is know yo be the highest cause of lung cancer in non-smokers. Probably its presence is more evident in houses that contains a basement.</p>\n",
    "<p>The US Environmental Protection Agency (EPA) has set that the tolerance level for this fas is about 4 pCi/L. At or above this level of randon, EPA recommends that person takes corrective measures to reduce this level.</p>\n",
    "<p>Of the frequentist point of Hypothesis</p>"
   ]
  },
  {
   "cell_type": "code",
   "execution_count": null,
   "id": "1ff1b649-5248-4688-b238-91e5a6717f51",
   "metadata": {},
   "outputs": [],
   "source": []
  },
  {
   "cell_type": "code",
   "execution_count": null,
   "id": "d606cd35-67df-4f16-a341-e8469e572722",
   "metadata": {},
   "outputs": [],
   "source": [
    "import pandas as pd"
   ]
  },
  {
   "cell_type": "markdown",
   "id": "3ada474c-f51b-44e6-9f46-99a51d03c235",
   "metadata": {},
   "source": [
    "<h2>References</h2>"
   ]
  },
  {
   "cell_type": "markdown",
   "id": "003c5bb9-908c-4303-8006-bc939079753b",
   "metadata": {},
   "source": [
    "<p>Gelman, Andrew, John B. Carlin, Hal S. Stern, David B. Dunson, Aki Vehtari, and Donald B. Rubin. 2013. Bayesian Data Analysis, Third Edition. CRC Press.</p>"
   ]
  }
 ],
 "metadata": {
  "kernelspec": {
   "display_name": "Python 3 (ipykernel)",
   "language": "python",
   "name": "python3"
  },
  "language_info": {
   "codemirror_mode": {
    "name": "ipython",
    "version": 3
   },
   "file_extension": ".py",
   "mimetype": "text/x-python",
   "name": "python",
   "nbconvert_exporter": "python",
   "pygments_lexer": "ipython3",
   "version": "3.10.6"
  }
 },
 "nbformat": 4,
 "nbformat_minor": 5
}
