{
 "cells": [
  {
   "cell_type": "markdown",
   "metadata": {},
   "source": [
    "<h1>Hierarchical models</h1>"
   ]
  },
  {
   "cell_type": "markdown",
   "metadata": {},
   "source": [
    "<p>Suppose we want to anlyze the quality of water in a city, so we take samples by divigng the city into neighborhoods. We may think we have two options to analyze this data:</p>\n",
    "\n",
    "<ul>\n",
    "    <li>Estimate variables for each neighborhoods as separete entities</li>\n",
    "    <li>Pool the data together and estimate water quality of the city as a single big group</li>\n",
    "</ul>\n",
    "\n",
    "<p>Depends on what we would like to do booth could be reasonable options. However, we can do something between booth, actually we can do booth by construct a model that estiamtes the water quality of each neighborhood and estimates the water quality of the whole city. This type of model is know as hierarchical model or multilevel model.</p>\n",
    "\n",
    "<p>Construct a hierachical model is just a fancy way of saying that we are putting shared priors over our priors.These priors are called hyper-priors, and their parameters hyper-parameters.</p>"
   ]
  },
  {
   "cell_type": "code",
   "execution_count": 1,
   "metadata": {},
   "outputs": [],
   "source": [
    "import pandas as pd\n",
    "import arviz as az\n",
    "import numpy as np\n",
    "import pymc as pm\n",
    "import matplotlib.pyplot as plt\n",
    "import seaborn as sns\n",
    "%matplotlib inline"
   ]
  },
  {
   "cell_type": "markdown",
   "metadata": {},
   "source": [
    "<p>To ilustrate hierarquiqual model we are gonna to use data about heart attack of patients treated at varioues hospitals in New York City.</p>"
   ]
  },
  {
   "cell_type": "code",
   "execution_count": 10,
   "metadata": {},
   "outputs": [
    {
     "data": {
      "text/html": [
       "<div>\n",
       "<style scoped>\n",
       "    .dataframe tbody tr th:only-of-type {\n",
       "        vertical-align: middle;\n",
       "    }\n",
       "\n",
       "    .dataframe tbody tr th {\n",
       "        vertical-align: top;\n",
       "    }\n",
       "\n",
       "    .dataframe thead th {\n",
       "        text-align: right;\n",
       "    }\n",
       "</style>\n",
       "<table border=\"1\" class=\"dataframe\">\n",
       "  <thead>\n",
       "    <tr style=\"text-align: right;\">\n",
       "      <th></th>\n",
       "      <th>Hospital</th>\n",
       "      <th>Cases</th>\n",
       "      <th>Deaths</th>\n",
       "      <th>Death %</th>\n",
       "    </tr>\n",
       "  </thead>\n",
       "  <tbody>\n",
       "    <tr>\n",
       "      <th>0</th>\n",
       "      <td>Bellevue Hospital Center</td>\n",
       "      <td>129</td>\n",
       "      <td>4</td>\n",
       "      <td>3.101</td>\n",
       "    </tr>\n",
       "    <tr>\n",
       "      <th>1</th>\n",
       "      <td>Harlem Hospital Center</td>\n",
       "      <td>35</td>\n",
       "      <td>1</td>\n",
       "      <td>2.857</td>\n",
       "    </tr>\n",
       "    <tr>\n",
       "      <th>2</th>\n",
       "      <td>Lenox Hill Hospital</td>\n",
       "      <td>228</td>\n",
       "      <td>18</td>\n",
       "      <td>7.894</td>\n",
       "    </tr>\n",
       "    <tr>\n",
       "      <th>3</th>\n",
       "      <td>Metropolitan Hospital Center</td>\n",
       "      <td>84</td>\n",
       "      <td>7</td>\n",
       "      <td>8.333</td>\n",
       "    </tr>\n",
       "    <tr>\n",
       "      <th>4</th>\n",
       "      <td>Mount Sinai Beth Israel</td>\n",
       "      <td>291</td>\n",
       "      <td>24</td>\n",
       "      <td>8.247</td>\n",
       "    </tr>\n",
       "  </tbody>\n",
       "</table>\n",
       "</div>"
      ],
      "text/plain": [
       "                       Hospital  Cases  Deaths  Death %\n",
       "0      Bellevue Hospital Center    129       4    3.101\n",
       "1        Harlem Hospital Center     35       1    2.857\n",
       "2           Lenox Hill Hospital    228      18    7.894\n",
       "3  Metropolitan Hospital Center     84       7    8.333\n",
       "4       Mount Sinai Beth Israel    291      24    8.247"
      ]
     },
     "execution_count": 10,
     "metadata": {},
     "output_type": "execute_result"
    }
   ],
   "source": [
    "data = pd.read_csv(\"../data/DeathHeartAttackManhattan.csv\")\n",
    "data.head()"
   ]
  },
  {
   "cell_type": "code",
   "execution_count": 8,
   "metadata": {},
   "outputs": [
    {
     "ename": "RecursionError",
     "evalue": "maximum recursion depth exceeded in comparison",
     "output_type": "error",
     "traceback": [
      "\u001b[0;31m---------------------------------------------------------------------------\u001b[0m",
      "\u001b[0;31mRecursionError\u001b[0m                            Traceback (most recent call last)",
      "Cell \u001b[0;32mIn[8], line 13\u001b[0m\n\u001b[1;32m      9\u001b[0m     sigma \u001b[38;5;241m=\u001b[39m pm\u001b[38;5;241m.\u001b[39mUniform(\u001b[38;5;124m\"\u001b[39m\u001b[38;5;124msigma\u001b[39m\u001b[38;5;124m\"\u001b[39m, lower \u001b[38;5;241m=\u001b[39m \u001b[38;5;241m0\u001b[39m, upper \u001b[38;5;241m=\u001b[39m \u001b[38;5;241m10\u001b[39m)\n\u001b[1;32m     12\u001b[0m     \u001b[38;5;66;03m#likelihood\u001b[39;00m\n\u001b[0;32m---> 13\u001b[0m     y_observed \u001b[38;5;241m=\u001b[39m pm\u001b[38;5;241m.\u001b[39mNormal(\u001b[38;5;124m\"\u001b[39m\u001b[38;5;124my_observed\u001b[39m\u001b[38;5;124m\"\u001b[39m, mu \u001b[38;5;241m=\u001b[39m \u001b[43mmu\u001b[49m\u001b[43m[\u001b[49m\u001b[43mdata\u001b[49m\u001b[43m[\u001b[49m\u001b[38;5;124;43m\"\u001b[39;49m\u001b[38;5;124;43mcounty\u001b[39;49m\u001b[38;5;124;43m\"\u001b[39;49m\u001b[43m]\u001b[49m\u001b[38;5;241;43m.\u001b[39;49m\u001b[43mvalues\u001b[49m\u001b[43m]\u001b[49m, sigma \u001b[38;5;241m=\u001b[39m sigma, observed \u001b[38;5;241m=\u001b[39m data[\u001b[38;5;124m\"\u001b[39m\u001b[38;5;124mlog_randon\u001b[39m\u001b[38;5;124m\"\u001b[39m])\n\u001b[1;32m     15\u001b[0m pm\u001b[38;5;241m.\u001b[39mmodel_to_graphviz(hier_mans)\n",
      "File \u001b[0;32m/usr/local/lib/python3.10/dist-packages/pytensor/tensor/var.py:489\u001b[0m, in \u001b[0;36m_tensor_py_operators.__getitem__\u001b[0;34m(self, args)\u001b[0m\n\u001b[1;32m    481\u001b[0m     index_dim_count \u001b[38;5;241m+\u001b[39m\u001b[38;5;241m=\u001b[39m arg\u001b[38;5;241m.\u001b[39mndim\n\u001b[1;32m    482\u001b[0m \u001b[38;5;28;01melse\u001b[39;00m:\n\u001b[1;32m    483\u001b[0m     \u001b[38;5;66;03m# Python arrays can contain a mixture of bools and integers,\u001b[39;00m\n\u001b[1;32m    484\u001b[0m     \u001b[38;5;66;03m# which requires complex rules to handle all special cases.\u001b[39;00m\n\u001b[0;32m   (...)\u001b[0m\n\u001b[1;32m    487\u001b[0m     \u001b[38;5;66;03m# indexing, it is safe to throw an error if we encounter\u001b[39;00m\n\u001b[1;32m    488\u001b[0m     \u001b[38;5;66;03m# any of these difficult cases.\u001b[39;00m\n\u001b[0;32m--> 489\u001b[0m     \u001b[38;5;28;01mif\u001b[39;00m \u001b[43mincludes_bool\u001b[49m\u001b[43m(\u001b[49m\u001b[43marg\u001b[49m\u001b[43m)\u001b[49m:\n\u001b[1;32m    490\u001b[0m         \u001b[38;5;28;01mraise\u001b[39;00m \u001b[38;5;167;01mTypeError\u001b[39;00m(\n\u001b[1;32m    491\u001b[0m             \u001b[38;5;124m\"\u001b[39m\u001b[38;5;124mTensorType does not support Python bools \u001b[39m\u001b[38;5;124m\"\u001b[39m\n\u001b[1;32m    492\u001b[0m             \u001b[38;5;124m\"\u001b[39m\u001b[38;5;124mfor indexing, such as tensor[[True, False]]. \u001b[39m\u001b[38;5;124m\"\u001b[39m\n\u001b[0;32m   (...)\u001b[0m\n\u001b[1;32m    495\u001b[0m             \u001b[38;5;124m\"\u001b[39m\u001b[38;5;124mtensor[numpy.array([True, False])].\u001b[39m\u001b[38;5;124m\"\u001b[39m\n\u001b[1;32m    496\u001b[0m         )\n\u001b[1;32m    497\u001b[0m     index_dim_count \u001b[38;5;241m+\u001b[39m\u001b[38;5;241m=\u001b[39m \u001b[38;5;241m1\u001b[39m\n",
      "File \u001b[0;32m/usr/local/lib/python3.10/dist-packages/pytensor/tensor/var.py:457\u001b[0m, in \u001b[0;36m_tensor_py_operators.__getitem__.<locals>.includes_bool\u001b[0;34m(args_el)\u001b[0m\n\u001b[1;32m    455\u001b[0m \u001b[38;5;28;01mif\u001b[39;00m \u001b[38;5;129;01mnot\u001b[39;00m \u001b[38;5;28misinstance\u001b[39m(args_el, Variable) \u001b[38;5;129;01mand\u001b[39;00m \u001b[38;5;28misinstance\u001b[39m(args_el, Iterable):\n\u001b[1;32m    456\u001b[0m     \u001b[38;5;28;01mfor\u001b[39;00m el \u001b[38;5;129;01min\u001b[39;00m args_el:\n\u001b[0;32m--> 457\u001b[0m         \u001b[38;5;28;01mif\u001b[39;00m \u001b[43mincludes_bool\u001b[49m\u001b[43m(\u001b[49m\u001b[43mel\u001b[49m\u001b[43m)\u001b[49m:\n\u001b[1;32m    458\u001b[0m             \u001b[38;5;28;01mreturn\u001b[39;00m \u001b[38;5;28;01mTrue\u001b[39;00m\n\u001b[1;32m    459\u001b[0m \u001b[38;5;28;01mreturn\u001b[39;00m \u001b[38;5;28;01mFalse\u001b[39;00m\n",
      "File \u001b[0;32m/usr/local/lib/python3.10/dist-packages/pytensor/tensor/var.py:457\u001b[0m, in \u001b[0;36m_tensor_py_operators.__getitem__.<locals>.includes_bool\u001b[0;34m(args_el)\u001b[0m\n\u001b[1;32m    455\u001b[0m \u001b[38;5;28;01mif\u001b[39;00m \u001b[38;5;129;01mnot\u001b[39;00m \u001b[38;5;28misinstance\u001b[39m(args_el, Variable) \u001b[38;5;129;01mand\u001b[39;00m \u001b[38;5;28misinstance\u001b[39m(args_el, Iterable):\n\u001b[1;32m    456\u001b[0m     \u001b[38;5;28;01mfor\u001b[39;00m el \u001b[38;5;129;01min\u001b[39;00m args_el:\n\u001b[0;32m--> 457\u001b[0m         \u001b[38;5;28;01mif\u001b[39;00m \u001b[43mincludes_bool\u001b[49m\u001b[43m(\u001b[49m\u001b[43mel\u001b[49m\u001b[43m)\u001b[49m:\n\u001b[1;32m    458\u001b[0m             \u001b[38;5;28;01mreturn\u001b[39;00m \u001b[38;5;28;01mTrue\u001b[39;00m\n\u001b[1;32m    459\u001b[0m \u001b[38;5;28;01mreturn\u001b[39;00m \u001b[38;5;28;01mFalse\u001b[39;00m\n",
      "    \u001b[0;31m[... skipping similar frames: _tensor_py_operators.__getitem__.<locals>.includes_bool at line 457 (9963 times)]\u001b[0m\n",
      "File \u001b[0;32m/usr/local/lib/python3.10/dist-packages/pytensor/tensor/var.py:457\u001b[0m, in \u001b[0;36m_tensor_py_operators.__getitem__.<locals>.includes_bool\u001b[0;34m(args_el)\u001b[0m\n\u001b[1;32m    455\u001b[0m \u001b[38;5;28;01mif\u001b[39;00m \u001b[38;5;129;01mnot\u001b[39;00m \u001b[38;5;28misinstance\u001b[39m(args_el, Variable) \u001b[38;5;129;01mand\u001b[39;00m \u001b[38;5;28misinstance\u001b[39m(args_el, Iterable):\n\u001b[1;32m    456\u001b[0m     \u001b[38;5;28;01mfor\u001b[39;00m el \u001b[38;5;129;01min\u001b[39;00m args_el:\n\u001b[0;32m--> 457\u001b[0m         \u001b[38;5;28;01mif\u001b[39;00m \u001b[43mincludes_bool\u001b[49m\u001b[43m(\u001b[49m\u001b[43mel\u001b[49m\u001b[43m)\u001b[49m:\n\u001b[1;32m    458\u001b[0m             \u001b[38;5;28;01mreturn\u001b[39;00m \u001b[38;5;28;01mTrue\u001b[39;00m\n\u001b[1;32m    459\u001b[0m \u001b[38;5;28;01mreturn\u001b[39;00m \u001b[38;5;28;01mFalse\u001b[39;00m\n",
      "File \u001b[0;32m/usr/local/lib/python3.10/dist-packages/pytensor/tensor/var.py:455\u001b[0m, in \u001b[0;36m_tensor_py_operators.__getitem__.<locals>.includes_bool\u001b[0;34m(args_el)\u001b[0m\n\u001b[1;32m    451\u001b[0m \u001b[38;5;28;01mif\u001b[39;00m \u001b[38;5;28misinstance\u001b[39m(args_el, (np\u001b[38;5;241m.\u001b[39mbool_, \u001b[38;5;28mbool\u001b[39m)) \u001b[38;5;129;01mor\u001b[39;00m (\n\u001b[1;32m    452\u001b[0m     \u001b[38;5;28mhasattr\u001b[39m(args_el, \u001b[38;5;124m\"\u001b[39m\u001b[38;5;124mdtype\u001b[39m\u001b[38;5;124m\"\u001b[39m) \u001b[38;5;129;01mand\u001b[39;00m args_el\u001b[38;5;241m.\u001b[39mdtype \u001b[38;5;241m==\u001b[39m \u001b[38;5;124m\"\u001b[39m\u001b[38;5;124mbool\u001b[39m\u001b[38;5;124m\"\u001b[39m\n\u001b[1;32m    453\u001b[0m ):\n\u001b[1;32m    454\u001b[0m     \u001b[38;5;28;01mreturn\u001b[39;00m \u001b[38;5;28;01mTrue\u001b[39;00m\n\u001b[0;32m--> 455\u001b[0m \u001b[38;5;28;01mif\u001b[39;00m \u001b[38;5;129;01mnot\u001b[39;00m \u001b[38;5;28;43misinstance\u001b[39;49m\u001b[43m(\u001b[49m\u001b[43margs_el\u001b[49m\u001b[43m,\u001b[49m\u001b[43m \u001b[49m\u001b[43mVariable\u001b[49m\u001b[43m)\u001b[49m \u001b[38;5;129;01mand\u001b[39;00m \u001b[38;5;28misinstance\u001b[39m(args_el, Iterable):\n\u001b[1;32m    456\u001b[0m     \u001b[38;5;28;01mfor\u001b[39;00m el \u001b[38;5;129;01min\u001b[39;00m args_el:\n\u001b[1;32m    457\u001b[0m         \u001b[38;5;28;01mif\u001b[39;00m includes_bool(el):\n",
      "File \u001b[0;32m/usr/lib/python3.10/abc.py:119\u001b[0m, in \u001b[0;36mABCMeta.__instancecheck__\u001b[0;34m(cls, instance)\u001b[0m\n\u001b[1;32m    117\u001b[0m \u001b[38;5;28;01mdef\u001b[39;00m \u001b[38;5;21m__instancecheck__\u001b[39m(\u001b[38;5;28mcls\u001b[39m, instance):\n\u001b[1;32m    118\u001b[0m \u001b[38;5;250m    \u001b[39m\u001b[38;5;124;03m\"\"\"Override for isinstance(instance, cls).\"\"\"\u001b[39;00m\n\u001b[0;32m--> 119\u001b[0m     \u001b[38;5;28;01mreturn\u001b[39;00m \u001b[43m_abc_instancecheck\u001b[49m\u001b[43m(\u001b[49m\u001b[38;5;28;43mcls\u001b[39;49m\u001b[43m,\u001b[49m\u001b[43m \u001b[49m\u001b[43minstance\u001b[49m\u001b[43m)\u001b[49m\n",
      "\u001b[0;31mRecursionError\u001b[0m: maximum recursion depth exceeded in comparison"
     ]
    }
   ],
   "source": [
    "with pm.Model() as hier_mean:\n",
    "    \n",
    "    #Hyper priors for Normal distribution\n",
    "    hyper_alpha = pm.Gamma(\"hyper_alpha\", alpha = 4, beta = 0.5)\n",
    "    hyper_beta = pm.Gamma(\"hyper_beta\", alpha = 4, beta = 0.5)\n",
    "    \n",
    "    #priors\n",
    "    theta = pm.Beta(\"theta\", alpha = alpha, beta = beta, shape = len(df['Cases'].values))\n",
    "    \n",
    "\n",
    "    #likelihood\n",
    "    y_observed = pm.Normal(\"y_observed\", mu = mu[data[\"county\"].values], sigma = sigma, observed = data[\"log_randon\"])\n",
    "\n",
    "pm.model_to_graphviz(hier_mans)"
   ]
  },
  {
   "cell_type": "code",
   "execution_count": null,
   "metadata": {},
   "outputs": [],
   "source": [
    "with hier_mans:\n",
    "    trace = pm.sample(10000, chains = 2, tune = 1000, target_accept=.95)"
   ]
  },
  {
   "cell_type": "markdown",
   "metadata": {},
   "source": [
    "<p>Now we start our model inspection.<p>"
   ]
  },
  {
   "cell_type": "code",
   "execution_count": null,
   "metadata": {},
   "outputs": [],
   "source": [
    "chains = trace[1000:]\n",
    "az.plot_trace(chains, combined = True, figsize = [18,20]);"
   ]
  },
  {
   "cell_type": "code",
   "execution_count": null,
   "metadata": {},
   "outputs": [],
   "source": [
    "pm.summary(chains)"
   ]
  },
  {
   "cell_type": "markdown",
   "metadata": {},
   "source": [
    "<p>By putting hyper-priors, we are estimating the values of our prior from the data itself and each group is informing the rest, and in turn is informed by the estimation of the other. In other words, the groups are effectively sharing information trough the hyper-prior and we are observing what is know as shrinkage.</p>"
   ]
  },
  {
   "cell_type": "code",
   "execution_count": null,
   "metadata": {},
   "outputs": [],
   "source": [
    "#Creating a data frame with results\n",
    "results = {}\n",
    "for i in range(7):\n",
    "    res = chains[\"theta\"][:, i: i + 1]\n",
    "    res_l = map(lambda x: x[0], res)\n",
    "    results.update({i:res_l})"
   ]
  },
  {
   "cell_type": "code",
   "execution_count": null,
   "metadata": {},
   "outputs": [],
   "source": [
    "results"
   ]
  },
  {
   "cell_type": "code",
   "execution_count": null,
   "metadata": {},
   "outputs": [],
   "source": [
    "df_results = pd.DataFrame.from_dict({\"Ituxi\": list(results[0]),\n",
    "                                     \"Pauini\": list(results[1]),\n",
    "                                     \"Purus\": list(results[2]),\n",
    "                                     \"Solimoes/Cadajas\": list(results[3]),\n",
    "                                     \"Solimoes/Coari\": list(results[4]),\n",
    "                                     \"Solimoes/Tefé\": list(results[5]),\n",
    "                                     \"Tefé/Tefé\": list(results[6])})\n",
    "df_results.head()"
   ]
  },
  {
   "cell_type": "code",
   "execution_count": null,
   "metadata": {},
   "outputs": [],
   "source": []
  }
 ],
 "metadata": {
  "kernelspec": {
   "display_name": "Python 3 (ipykernel)",
   "language": "python",
   "name": "python3"
  },
  "language_info": {
   "codemirror_mode": {
    "name": "ipython",
    "version": 3
   },
   "file_extension": ".py",
   "mimetype": "text/x-python",
   "name": "python",
   "nbconvert_exporter": "python",
   "pygments_lexer": "ipython3",
   "version": "3.10.6"
  }
 },
 "nbformat": 4,
 "nbformat_minor": 4
}
